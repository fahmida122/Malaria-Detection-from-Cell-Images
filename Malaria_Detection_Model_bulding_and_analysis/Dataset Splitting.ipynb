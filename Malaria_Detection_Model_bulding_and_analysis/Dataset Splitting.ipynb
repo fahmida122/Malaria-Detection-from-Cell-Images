{
 "cells": [
  {
   "cell_type": "code",
   "execution_count": 1,
   "id": "80089a0a",
   "metadata": {},
   "outputs": [
    {
     "name": "stdout",
     "output_type": "stream",
     "text": [
      "Collecting split-folders\n",
      "  Downloading split_folders-0.5.1-py3-none-any.whl (8.4 kB)\n",
      "Installing collected packages: split-folders\n",
      "Successfully installed split-folders-0.5.1\n",
      "Note: you may need to restart the kernel to use updated packages.\n"
     ]
    }
   ],
   "source": [
    "pip install split-folders"
   ]
  },
  {
   "cell_type": "code",
   "execution_count": 2,
   "id": "d236f3b0",
   "metadata": {},
   "outputs": [],
   "source": [
    "import splitfolders"
   ]
  },
  {
   "cell_type": "code",
   "execution_count": 3,
   "id": "005dd3b7",
   "metadata": {},
   "outputs": [],
   "source": [
    "input_folder = \"Dataset/cell_images/\"\n",
    "output_folder = \"Splitted_dataset\""
   ]
  },
  {
   "cell_type": "code",
   "execution_count": 4,
   "id": "4cdac620",
   "metadata": {},
   "outputs": [],
   "source": [
    "splitfolders.ratio(input_folder, output=output_folder, seed=24,\n",
    "                   ratio=(.7,.2,.1), group_prefix=None)"
   ]
  },
  {
   "cell_type": "code",
   "execution_count": null,
   "id": "5b391011",
   "metadata": {},
   "outputs": [],
   "source": []
  }
 ],
 "metadata": {
  "kernelspec": {
   "display_name": "Python 3 (ipykernel)",
   "language": "python",
   "name": "python3"
  },
  "language_info": {
   "codemirror_mode": {
    "name": "ipython",
    "version": 3
   },
   "file_extension": ".py",
   "mimetype": "text/x-python",
   "name": "python",
   "nbconvert_exporter": "python",
   "pygments_lexer": "ipython3",
   "version": "3.8.15"
  }
 },
 "nbformat": 4,
 "nbformat_minor": 5
}
